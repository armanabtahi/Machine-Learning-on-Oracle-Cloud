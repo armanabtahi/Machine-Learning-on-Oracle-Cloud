{
 "cells": [
  {
   "cell_type": "markdown",
   "id": "80c3b496-b53f-4d62-b962-ba022e72756d",
   "metadata": {},
   "source": [
    "Created and developed by Arman Abtahi at Vector Institute, University of Toronto\n",
    "\n",
    "arman.abtahi@gmail.com"
   ]
  },
  {
   "cell_type": "code",
   "execution_count": null,
   "id": "da7bc618-6354-4ac6-91bb-2514314c2318",
   "metadata": {},
   "outputs": [],
   "source": [
    "import json\n",
    "from utils import (\n",
    "Identity,\n",
    "Policy,\n",
    "Events,\n",
    "OSDataSource,\n",
    "Data_Catalog_Pipeline,\n",
    "Data_Flow_Pipeline,\n",
    "Data_Integration_Pipeline,\n",
    "schedule_time,\n",
    "config,path2uri\n",
    ")"
   ]
  },
  {
   "cell_type": "markdown",
   "id": "694a8f8f-c7cb-4535-90e2-9b720689cc2b",
   "metadata": {},
   "source": [
    "# Parameters"
   ]
  },
  {
   "cell_type": "code",
   "execution_count": 3,
   "id": "2fb75a60-b48c-4fba-bd7d-e3f08d6203ef",
   "metadata": {
    "tags": []
   },
   "outputs": [],
   "source": [
    "## Environment Values\n",
    "env={\n",
    "    \"compartment_name\":\"soterlabs\",\n",
    "    \"compartment_id\":\"XXXXXXXXXXXXX\",\n",
    "    \"namespace_name\":\"XXXXXXXXXXXXX\",\n",
    "    \"bucket_name\":\"Arman_Crypto_2023\",\n",
    "    \"region\": \"ca-toronto-1\",\n",
    "    \"user\":\"XXXXXXXXXXXXX\",\n",
    "    }\n",
    "\n",
    "NewsData_env={\n",
    "    \"ND_ingest_path\":\"data-lake/raw-data/news\",\n",
    "    \"api_key_datanews\":\"XXXXXXXXXXXXX\",\n",
    "    \"country\":\"ca,us\",\n",
    "    \"language\":\"en\",\n",
    "    \"q\":\"Bitcoin\",\n",
    "    \"from_date\":\"2021-04-01\",\n",
    "    \"to_date\":\"2023-03-01\",\n",
    "    \"interval_hour\":24,\n",
    "    }\n",
    "\n",
    "CoinWatch_env={\n",
    "    \"CW_ingest_path\":\"data-lake/raw-data/crypto\",\n",
    "    \"api_key_coinwatch\":\"XXXXXXXXXXXXX\",\n",
    "    \"currency\":\"USD\",\n",
    "    \"code\":\"BTC\",\n",
    "    \"from_date\":\"2021-04-01\",\n",
    "    \"to_date\":\"2023-03-01\",\n",
    "    \"interval_hour\":8,\n",
    "    }\n",
    "\n",
    "adw_env={\n",
    "    \"ND_ingest_path\":\"data-lake/raw-data/news\",\n",
    "    \"CW_ingest_path\":\"data-lake/raw-data/crypto\",\n",
    "    'dsn' : \"armanfs_high\",\n",
    "    'userpwd':\"XXXXXX\",\n",
    "    'user':'ADMIN',\n",
    "    'tnsnames_dir':'application/Wallet_ArmanFS/tnsnames.ora',\n",
    "    'ewallet_dir':'application/Wallet_ArmanFS/ewallet.pem',\n",
    "    }\n",
    "\n",
    "key_files={\n",
    "    \"key_file\":\"ocikey/-03-02-00-27.pem\",\n",
    "    \"fingerprint\":\"XXXXXXXXXXXXX\",\n",
    "}\n",
    "\n",
    "archive_path='application/archive.zip'\n",
    "logs_bucket_path=\"application/logs\"\n",
    "\n",
    "## application path in Object Storage\n",
    "#history\n",
    "API_newsdata_history_path='application/API_newsdata.py'\n",
    "API_coinwatch_history_path='application/API_coinwatch.py'\n",
    "OS2ADW_history_path='application/OS2ADW_history.py'\n",
    "ADW_Feature_Extraction_history_path='application/ADW_Feature_Extraction_history.py'\n",
    "#jobs\n",
    "API_newsdata_path='application/API_newsdata.py'\n",
    "API_coinwatch_path='application/API_coinwatch.py'\n",
    "OS2ADW_path='application/OS2ADW.py'\n",
    "ADW_Feature_Extraction_path='application/ADW_Feature_Extraction.py'\n",
    "scoring_path='application/scoring.py'\n",
    "\n",
    "## training application path in Object Storage\n",
    "model_archive_path='application/models/archive.zip'\n",
    "model_artifact_path='application/models/artifact'\n",
    "model_logs_bucket_path=\"application/models/logs\"\n",
    "model_training_path='application/models/RF_model_training.py'\n",
    "\n",
    "## ADW wallet path in Object Storage\n",
    "Wallet_ArmanFS_tnsnames_path='application/Wallet_ArmanFS/tnsnames.ora'\n",
    "Wallet_ArmanFS_ewallet_path='application/Wallet_ArmanFS/ewallet.pem'\n",
    "\n",
    "env_str = json.dumps(env)\n",
    "NewsData_env_str = json.dumps(NewsData_env)\n",
    "CoinWatch_env_str = json.dumps(CoinWatch_env)\n",
    "adw_env_str = json.dumps(adw_env)\n",
    "\n",
    "## Notification in slack\n",
    "slack_topic_id=\"XXXXXXXX\""
   ]
  },
  {
   "cell_type": "markdown",
   "id": "b46eb907-eab8-441a-89b7-11dfca42e7db",
   "metadata": {},
   "source": [
    "# Configuration"
   ]
  },
  {
   "cell_type": "code",
   "execution_count": 3,
   "id": "f5635599-978b-4f6d-bc4d-ad429907d20e",
   "metadata": {},
   "outputs": [
    {
     "name": "stderr",
     "output_type": "stream",
     "text": [
      "WARNING:root:>>>Identity object initialized<<<\n"
     ]
    }
   ],
   "source": [
    "config   = config(env,key_files,config_uri=\"ocikey/config.txt\")\n",
    "identity = Identity(config)"
   ]
  },
  {
   "cell_type": "markdown",
   "id": "53912afa-01bd-4aa9-bfd8-0e4306782873",
   "metadata": {},
   "source": [
    "# Policies"
   ]
  },
  {
   "cell_type": "code",
   "execution_count": 4,
   "id": "fd169725-a6c8-4d15-9438-8dbbf98f3ef0",
   "metadata": {},
   "outputs": [
    {
     "name": "stderr",
     "output_type": "stream",
     "text": [
      "WARNING:root:>>>Identity Client<<<\n",
      "\n",
      "WARNING:root:>>>Policy already existed<<<\n",
      "WARNING:root:>>>Policy statements updated: [\"Allow any-user to manage objects in tenancy where ALL { request.principal.type='dataflowrun'}\", \"Allow any-user to manage buckets in tenancy where ALL { request.principal.type='dataflowrun'}\"]<<<\n",
      "WARNING:root:>>>Policy ID : ocid1.policy.oc1..aaaaaaaalakc44cgj5vrenr24k3orcu4hr5okkhm6o5tmw5oqced6yu4y3kq<<<\n",
      "\n",
      "WARNING:root:>>>Policy already existed<<<\n",
      "WARNING:root:>>>Policy statements updated: [\"Allow any-user to manage objects in tenancy where ALL { request.principal.type='disworkspace'}\", \"Allow any-user to manage buckets in tenancy where ALL { request.principal.type='disworkspace'}\"]<<<\n",
      "WARNING:root:>>>Policy ID : ocid1.policy.oc1..aaaaaaaangyh4l7zlagjzuwcgwth23x6gzoutesugzyydmdzcpwnfpgryfra<<<\n",
      "\n",
      "WARNING:root:>>>Policy already existed<<<\n",
      "WARNING:root:>>>Policy statements updated: [\"Allow any-user to manage dataflow-application in tenancy where ALL { request.principal.type='disworkspace'}\", \"Allow any-user to manage dataflow-run         in tenancy where ALL { request.principal.type='disworkspace'}\", \"Allow any-user to read   dataflow-application in tenancy where ALL { request.principal.type='disworkspace'}\"]<<<\n",
      "WARNING:root:>>>Policy ID : ocid1.policy.oc1..aaaaaaaaw7kx46un2iwqs2ucjwik3bhj3ihyon6mdpioviwllerl4jhdxkxq<<<\n",
      "\n",
      "WARNING:root:>>>Policy already existed<<<\n",
      "WARNING:root:>>>Policy statements updated: ['Allow any-user to manage  cloudevents-rules in tenancy', 'Allow any-user to inspect compartments      in tenancy', 'Allow any-user to use     tag-namespaces    in tenancy', 'Allow any-user to use     ons-topic         in tenancy']<<<\n",
      "WARNING:root:>>>Policy ID : ocid1.policy.oc1..aaaaaaaa65ygq5n6kenygdf3pe3f2c2gbrpj5hwv6fw3hvvpsvkfav3wddzq<<<\n",
      "\n"
     ]
    },
    {
     "data": {
      "text/plain": [
       "<oci.response.Response at 0x7fa2856ffe20>"
      ]
     },
     "execution_count": 4,
     "metadata": {},
     "output_type": "execute_result"
    }
   ],
   "source": [
    "policy=Policy(identity,env)\n",
    "policy.create(\n",
    "    name        =  \"Arman-dataflowrun-policy\",\n",
    "    statements  = [\"Allow any-user to manage objects in tenancy where ALL { request.principal.type='dataflowrun'}\",\n",
    "                   \"Allow any-user to manage buckets in tenancy where ALL { request.principal.type='dataflowrun'}\"\n",
    "                  ],\n",
    "    description =  \"Grant access dataflow to manage buckets and objects in data flow run\"\n",
    "    )\n",
    "\n",
    "\n",
    "policy.create(\n",
    "    name        =  \"Arman-data-integration-policy\",\n",
    "    statements  = [\"Allow any-user to manage objects in tenancy where ALL { request.principal.type='disworkspace'}\",\n",
    "                   \"Allow any-user to manage buckets in tenancy where ALL { request.principal.type='disworkspace'}\"],\n",
    "    description =  \"Grant access to data integration in the tenancy\"\n",
    "    )\n",
    "\n",
    "policy.create(\n",
    "    name        =  \"Arman-data-integration-dataflow-policy\",\n",
    "    statements  = [\"Allow any-user to manage dataflow-application in tenancy where ALL { request.principal.type='disworkspace'}\",\n",
    "                   \"Allow any-user to manage dataflow-run         in tenancy where ALL { request.principal.type='disworkspace'}\",\n",
    "                   \"Allow any-user to read   dataflow-application in tenancy where ALL { request.principal.type='disworkspace'}\"\n",
    "                  ],\n",
    "    description =  \"Grant access to data integration to manage dataflow in the tenancy\"\n",
    "    )\n",
    "\n",
    "policy.create(\n",
    "    name        =  \"Arman-event-policy\",\n",
    "    statements  = [\"Allow any-user to manage  cloudevents-rules in tenancy\",\n",
    "                   \"Allow any-user to inspect compartments      in tenancy\",\n",
    "                   \"Allow any-user to use     tag-namespaces    in tenancy\",\n",
    "                   \"Allow any-user to use     ons-topic         in tenancy\"\n",
    "                  ],\n",
    "    description =  \"Grant access to events-rules and notifications\"\n",
    "    )"
   ]
  },
  {
   "cell_type": "markdown",
   "id": "53f1c4f9-14db-4c3b-b318-ed4159bd0b24",
   "metadata": {},
   "source": [
    "# Events"
   ]
  },
  {
   "cell_type": "code",
   "execution_count": 5,
   "id": "a17b9adc-0284-4588-aed5-a4258de29e96",
   "metadata": {},
   "outputs": [
    {
     "name": "stderr",
     "output_type": "stream",
     "text": [
      "WARNING:root:>>>Event Client<<<\n",
      "\n",
      "WARNING:root:>>>event created : workspace-creation-begins<<<\n",
      "\n",
      "WARNING:root:>>>event created : workspace-creation-ends<<<\n",
      "\n",
      "WARNING:root:>>>event created : dataflow-run-end<<<\n",
      "\n"
     ]
    }
   ],
   "source": [
    "events=Events(identity,env)\n",
    "create_rule_WS_begin_response=events.create_rule(\n",
    "            display_name = \"workspace-creation-begins\",\n",
    "            condition    = \"{\\\"eventType\\\":[\\\"com.oraclecloud.dataintegration.createworkspace.begin\\\"]}\",\n",
    "            topic_id     = slack_topic_id,\n",
    "            description  = \"send a notification when create-workspace begins\"\n",
    "        )\n",
    "create_rule_WS_end_response=events.create_rule(\n",
    "            display_name = \"workspace-creation-ends\",\n",
    "            condition    = \"{\\\"eventType\\\":[\\\"com.oraclecloud.dataintegration.createdisworkspace.end\\\"]}\",\n",
    "            topic_id     = slack_topic_id,\n",
    "            description  = \"send a notification when create-workspace ends\"\n",
    "        )\n",
    "create_rule_DF_end_response=events.create_rule(\n",
    "            display_name = \"dataflow-run-end\",\n",
    "            condition    = \"{\\\"eventType\\\":[\\\"com.oraclecloud.dataflow.createrun.end\\\"]}\",\n",
    "            topic_id     = slack_topic_id,\n",
    "            description  = \"send a notification when data-flow-run ends\"\n",
    "        )"
   ]
  },
  {
   "cell_type": "markdown",
   "id": "e48394ae-0e9e-4b5e-91c8-4b9178fb417c",
   "metadata": {},
   "source": [
    "# Move applications into Object Storage"
   ]
  },
  {
   "cell_type": "code",
   "execution_count": 6,
   "id": "fe7a3175-8faa-4d60-a63f-70684893a4ea",
   "metadata": {},
   "outputs": [
    {
     "name": "stderr",
     "output_type": "stream",
     "text": [
      "WARNING:root:>>>OsDataSource initialized<<<\n",
      "WARNING:root:>>>object storage client<<<\n",
      "\n",
      "WARNING:root:>>>bucket Arman_Crypto_2023 already existed<<<\n",
      "\n"
     ]
    }
   ],
   "source": [
    "OSDS=OSDataSource(identity,env)\n",
    "OSDS.create_bucket()"
   ]
  },
  {
   "cell_type": "code",
   "execution_count": 7,
   "id": "4456a729-2c02-465c-bcd2-821bf9c64d75",
   "metadata": {},
   "outputs": [
    {
     "name": "stderr",
     "output_type": "stream",
     "text": [
      "WARNING:root:>>>object created : application/Wallet_ArmanFS/tnsnames.ora<<<\n",
      "\n",
      "WARNING:root:>>>object created : application/Wallet_ArmanFS/ewallet.pem<<<\n",
      "\n",
      "WARNING:root:>>>object created : application/API_newsdata.py<<<\n",
      "\n",
      "WARNING:root:>>>object created : application/API_coinwatch.py<<<\n",
      "\n",
      "WARNING:root:>>>object created : application/OS2ADW.py<<<\n",
      "\n",
      "WARNING:root:>>>object created : application/ADW_Feature_Extraction.py<<<\n",
      "\n",
      "WARNING:root:>>>object created : application/scoring.py<<<\n",
      "\n",
      "WARNING:root:>>>object created : application/models/RF_model_training.py<<<\n",
      "\n"
     ]
    }
   ],
   "source": [
    "with open('Wallet_ArmanFS/tnsnames.ora', 'rb') as file:\n",
    "    binary_file = file.read()\n",
    "tnsnames_put_object_response=OSDS.create_object(binary_file,Wallet_ArmanFS_tnsnames_path)\n",
    "\n",
    "with open('Wallet_ArmanFS/ewallet.pem', 'rb') as file:\n",
    "    binary_file = file.read()\n",
    "ewallet_put_object_response=OSDS.create_object(binary_file,Wallet_ArmanFS_ewallet_path)\n",
    "\n",
    "with open('applications/API_newsdata_history.py', 'rb') as file:\n",
    "    binary_file = file.read()\n",
    "API_newsdata_history_put_object_response=OSDS.create_object(binary_file,API_newsdata_history_path)\n",
    "\n",
    "with open('applications/API_coinwatch_history.py', 'rb') as file:\n",
    "    binary_file = file.read()\n",
    "API_newsdata_history_put_object_response=OSDS.create_object(binary_file,API_coinwatch_history_path)\n",
    "\n",
    "with open('applications/OS2ADW_history.py', 'rb') as file:\n",
    "    binary_file = file.read()\n",
    "OS2ADW_history_put_object_response=OSDS.create_object(binary_file,OS2ADW_history_path)\n",
    "\n",
    "with open('applications/ADW_Feature_Extraction_history.py', 'rb') as file:\n",
    "    binary_file = file.read()\n",
    "ADW_Feature_Extraction_history_put_object_response=OSDS.create_object(binary_file,ADW_Feature_Extraction_history_path)\n",
    "\n",
    "with open('applications/API_newsdata.py', 'rb') as file:\n",
    "    binary_file = file.read()\n",
    "API_newsdata_put_object_response=OSDS.create_object(binary_file,API_newsdata_path)\n",
    "\n",
    "with open('applications/API_coinwatch.py', 'rb') as file:\n",
    "    binary_file = file.read()\n",
    "API_newsdata_put_object_response=OSDS.create_object(binary_file,API_coinwatch_path)\n",
    "\n",
    "with open('applications/OS2ADW.py', 'rb') as file:\n",
    "    binary_file = file.read()\n",
    "OS2ADW_put_object_response=OSDS.create_object(binary_file,OS2ADW_path)\n",
    "\n",
    "with open('applications/ADW_Feature_Extraction.py', 'rb') as file:\n",
    "    binary_file = file.read()\n",
    "ADW_Feature_Extraction_put_object_response=OSDS.create_object(binary_file,ADW_Feature_Extraction_path)\n",
    "\n",
    "with open('applications/scoring.py', 'rb') as file:\n",
    "    binary_file = file.read()\n",
    "scoring_put_object_response=OSDS.create_object(binary_file,scoring_path)\n",
    "\n",
    "with open('training_application/RF_model_training.py', 'rb') as file:\n",
    "    binary_file = file.read()\n",
    "RF_model_training_put_object_response=OSDS.create_object(binary_file,model_training_path)\n",
    "\n",
    "with open('training_application/archive.zip', 'rb') as file:\n",
    "    binary_file = file.read()\n",
    "archive_put_object_response=OSDS.create_object(binary_file,model_archive_path)\n",
    "\n",
    "with open('application/archive.zip', 'rb') as file:\n",
    "    binary_file = file.read()\n",
    "archive_put_object_response=OSDS.create_object(binary_file,archive_path)"
   ]
  },
  {
   "cell_type": "markdown",
   "id": "31058a07-dca5-47f4-bb58-4f8f13cef2ff",
   "metadata": {},
   "source": [
    "# Data Integration (Scheduling)"
   ]
  },
  {
   "cell_type": "code",
   "execution_count": 8,
   "id": "2427c56a-6ebc-44a6-8dca-b532fa17de09",
   "metadata": {},
   "outputs": [
    {
     "name": "stderr",
     "output_type": "stream",
     "text": [
      "WARNING:root:>>>Data integration Pipeline initialized<<<\n",
      "WARNING:root:>>>Data integration client<<<\n",
      "\n",
      "WARNING:root:>>>workspace is created: id = ocid1.disworkspace.oc1.ca-toronto-1.an2g6ljr2ow634yapefno6wvbva35fot3hskganwnknmotpagc7o2m6hvmqa<<<\n",
      "WARNING:root:>>>workspace takes time to create, give it some time before creaing a project<<<\n",
      "\n"
     ]
    }
   ],
   "source": [
    "DIP=Data_Integration_Pipeline(identity,env)\n",
    "create_workspace_response     = DIP.create_workspace(\n",
    "                                                display_name = \"Arman_Workspace\"\n",
    "                                                )"
   ]
  },
  {
   "cell_type": "code",
   "execution_count": 32,
   "id": "57af3ff2-c122-4aa4-9a3c-70f78fda17a1",
   "metadata": {},
   "outputs": [
    {
     "name": "stderr",
     "output_type": "stream",
     "text": [
      "WARNING:root:>>>project is created: key = cc71a06c-24ec-49de-8c9d-864a73c66602<<<\n",
      "\n",
      "WARNING:root:>>>application is created: key = b16a0ff0-b446-4c7f-8554-57b1bb491017<<<\n",
      "\n"
     ]
    }
   ],
   "source": [
    "create_project_response       = DIP.create_project(\n",
    "                                                name = \"dataflow_projects\"\n",
    "                                                )\n",
    "create_application_response   = DIP.create_application(\n",
    "                                                name = \"dataflow_applications\"\n",
    "                                                )"
   ]
  },
  {
   "cell_type": "code",
   "execution_count": 33,
   "id": "bd4d7a4a-6cb9-4add-8407-ffe0d57afc51",
   "metadata": {},
   "outputs": [],
   "source": [
    "## how long the scheduling will work\n",
    "integration_time = schedule_time()\n",
    "timestamp_schedule_begin = integration_time.next_sharp_hour_timestamp_ms()\n",
    "timestamp_schedule_end   = integration_time.next_sharp_hour_timestamp_ms(days=10)"
   ]
  },
  {
   "cell_type": "markdown",
   "id": "99cb1256-e909-4387-9c0b-b6f6c722a234",
   "metadata": {},
   "source": [
    "# Create Data Flow Applications\n",
    "We create applications first, then run them or make schedules. "
   ]
  },
  {
   "cell_type": "code",
   "execution_count": 34,
   "id": "70fb1ae0-2a99-40b7-86fe-e5e0a9960890",
   "metadata": {},
   "outputs": [
    {
     "name": "stderr",
     "output_type": "stream",
     "text": [
      "WARNING:root:>>>Data Flow Pipeline initialized<<<\n",
      "WARNING:root:>>>Data flow client<<<\n",
      "\n"
     ]
    }
   ],
   "source": [
    "DFP       = Data_Flow_Pipeline(identity,env)"
   ]
  },
  {
   "cell_type": "markdown",
   "id": "0b2e77ef-8462-4616-ac09-2feee3e5a13e",
   "metadata": {},
   "source": [
    "## <font color='red'>Historical Data</font>"
   ]
  },
  {
   "cell_type": "markdown",
   "id": "b95ab8e2-e1bf-4a9c-b0e2-26447236d867",
   "metadata": {},
   "source": [
    "### Ingest history data from NewsData"
   ]
  },
  {
   "cell_type": "code",
   "execution_count": null,
   "id": "ef1232da-4020-48dc-a5c6-3dbf9918e4d2",
   "metadata": {},
   "outputs": [],
   "source": [
    "newsdata_history_application_response = DFP.create_application(\n",
    "                                       display_name    ='Arman-request_api_newsdata_history', \n",
    "                                       file_uri        = path2uri(env,API_newsdata_path), \n",
    "                                       logs_bucket_uri = path2uri(env,logs_bucket_path),\n",
    "                                       archive_uri     = path2uri(env,archive_path),\n",
    "                                      )\n",
    "dataflow_history_newsdata_application_id  = newsdata_history_application_response.data.id"
   ]
  },
  {
   "cell_type": "code",
   "execution_count": null,
   "id": "8a4949c4-6e3d-46f2-8314-4b688b764b57",
   "metadata": {},
   "outputs": [],
   "source": [
    "arguments_NewsData_history  = [\"{}\".format(env_str),\"{}\".format(NewsData_env_str)]\n",
    "newsdata_history_create_run_response = DFP.create_run(\n",
    "                                        display_name = 'run_request_api_newsdata_history',\n",
    "                                        arguments    = arguments_NewsData_history)"
   ]
  },
  {
   "cell_type": "markdown",
   "id": "37e5ed77-792b-4a3e-b6c4-c710c38c15f4",
   "metadata": {},
   "source": [
    "### Ingest history data from CoinWatch"
   ]
  },
  {
   "cell_type": "code",
   "execution_count": null,
   "id": "108c5ee3-f833-405b-b924-e4ff4102a474",
   "metadata": {},
   "outputs": [],
   "source": [
    "coinwatch_history_application_response = DFP.create_application(\n",
    "                                       display_name    ='Arman-request_api_coinwatch_history', \n",
    "                                       file_uri        = path2uri(env,API_coinwatch_path), \n",
    "                                       logs_bucket_uri = path2uri(env,logs_bucket_path),\n",
    "                                       archive_uri     = path2uri(env,archive_path),\n",
    "                                      )\n",
    "dataflow_history_coinwatch_application_id  = coinwatch_history_application_response.data.id"
   ]
  },
  {
   "cell_type": "code",
   "execution_count": null,
   "id": "412521af-07cc-4912-9cd2-30807da91543",
   "metadata": {},
   "outputs": [],
   "source": [
    "arguments_CoinWatch_history  = [\"{}\".format(env_str),\"{}\".format(CoinWatch_env_str)]\n",
    "coinwatch_history_create_run_response = DFP.create_run(\n",
    "                                        display_name    = 'run_request_api_coinwatch_history',\n",
    "                                        arguments       = arguments_CoinWatch_history)"
   ]
  },
  {
   "cell_type": "markdown",
   "id": "95e57b95-deb7-429b-8cd0-07f9d7683890",
   "metadata": {},
   "source": [
    "### Historical Data: Object storage to ADW"
   ]
  },
  {
   "cell_type": "code",
   "execution_count": null,
   "id": "22ec5d86-63a1-469c-ae03-fce5281b7af9",
   "metadata": {},
   "outputs": [],
   "source": [
    "arguments_OS2ADW_history_application  = [\"{}\".format(env_str),\"{}\".format(adw_env_str)]\n",
    "OS2ADW_history_application_response = DFP.create_application(\n",
    "                                       display_name    ='Arman-OS2ADW-history', \n",
    "                                       file_uri        = path2uri(env,OS2ADW_history_path), \n",
    "                                       logs_bucket_uri = path2uri(env,logs_bucket_path),\n",
    "                                       archive_uri     = path2uri(env,archive_path),\n",
    "                                       arguments       = arguments_OS2ADW_history_application\n",
    "                                      )\n",
    "OS2ADW_history_application_id  = OS2ADW_history_application_response.data.id"
   ]
  },
  {
   "cell_type": "code",
   "execution_count": null,
   "id": "a3c7cdea-1745-497f-8158-4b61b8761253",
   "metadata": {},
   "outputs": [],
   "source": [
    "OS2ADW_history_create_run_response = DFP.create_run(display_name='run_OS2ADW_history')"
   ]
  },
  {
   "cell_type": "markdown",
   "id": "d8cf4b08-d161-46ef-b55a-f19b192e2fa5",
   "metadata": {},
   "source": [
    "### Historical Data: Feature Extraction"
   ]
  },
  {
   "cell_type": "code",
   "execution_count": null,
   "id": "57021c50-f306-4038-b9d3-a865c1160aa5",
   "metadata": {},
   "outputs": [],
   "source": [
    "arguments_ADW_Feature_Extraction_history  = [\"{}\".format(env_str),\"{}\".format(adw_env_str)]\n",
    "ADW_Feature_Extraction_history_application_response = DFP.create_application(\n",
    "                                       display_name    ='Arman-ADW-Feature-Extraction-history', \n",
    "                                       file_uri        = path2uri(env,ADW_Feature_Extraction_history_path), \n",
    "                                       logs_bucket_uri = path2uri(env,logs_bucket_path),\n",
    "                                       archive_uri     = path2uri(env,archive_path),\n",
    "                                       arguments       = arguments_ADW_Feature_Extraction_history\n",
    "                                      )\n",
    "ADW_Feature_Extraction_history_application_id  = ADW_Feature_Extraction_history_application_response.data.id"
   ]
  },
  {
   "cell_type": "code",
   "execution_count": null,
   "id": "08a8640e-6c35-4e1c-bba4-50bf0cba2040",
   "metadata": {},
   "outputs": [],
   "source": [
    "\n",
    "ADW_Feature_Extraction_history_create_run_response = DFP.create_run(display_name='run_ADW_Feature_Extraction_history')"
   ]
  },
  {
   "cell_type": "markdown",
   "id": "fde5bf4e-f0e2-41f3-ae3a-93b7eaa10ec8",
   "metadata": {},
   "source": [
    "## <font color='red'>Latest Data</font>"
   ]
  },
  {
   "cell_type": "markdown",
   "id": "9be5e3c2-de6f-4c1a-9262-070292c1e58f",
   "metadata": {},
   "source": [
    "### Ingest data from NewsData"
   ]
  },
  {
   "cell_type": "code",
   "execution_count": 35,
   "id": "871ae8d7-818a-4f22-a30d-cc0670c4c4b6",
   "metadata": {},
   "outputs": [
    {
     "name": "stderr",
     "output_type": "stream",
     "text": [
      "WARNING:root:>>>application Arman-request_api_newsdata_latest is created: id = ocid1.dataflowapplication.oc1.ca-toronto-1.an2g6ljr7q6phdiacrs2xphmjdnvco3aijhb5bohlllzqht3u566tokdvkkq<<<\n",
      "\n"
     ]
    }
   ],
   "source": [
    "arguments_NewsData  = [\"{}\".format(env_str),\"{}\".format(NewsData_env_str)]\n",
    "newsdata_application_response = DFP.create_application(\n",
    "                                       display_name    ='Arman-request_api_newsdata_latest', \n",
    "                                       file_uri        = path2uri(env,API_newsdata_path), \n",
    "                                       logs_bucket_uri = path2uri(env,logs_bucket_path),\n",
    "                                       archive_uri     = path2uri(env,archive_path),\n",
    "                                       arguments    = arguments_NewsData\n",
    "                                      )\n",
    "dataflow_newsdata_application_id  = newsdata_application_response.data.id"
   ]
  },
  {
   "cell_type": "code",
   "execution_count": 36,
   "id": "c087a19f-2560-46b6-bf00-e010c08113ba",
   "metadata": {},
   "outputs": [],
   "source": [
    "# newsdata_create_run_response = DFP.create_run(display_name = 'run_request_api_newsdata_latest')"
   ]
  },
  {
   "cell_type": "code",
   "execution_count": 37,
   "id": "5f4e2c62-9990-4e25-8662-77457fbf47d2",
   "metadata": {},
   "outputs": [
    {
     "name": "stderr",
     "output_type": "stream",
     "text": [
      "WARNING:root:>>>task is created: key = 5ae89e2c-453a-473b-a1e7-3d3619c528fc<<<\n",
      "\n",
      "WARNING:root:>>>task is published into application, patch key = 1ff14255-00d8-4c4d-827e-f1e07e664dc8<<<\n",
      "WARNING:root:>>>patching takes time, wait a bit<<<\n",
      "\n",
      "WARNING:root:>>>schedule is created: key = 6694a90e-8acd-48b6-8b04-e7e8f3523af7<<<\n",
      "\n"
     ]
    }
   ],
   "source": [
    "newsdata_create_task_response          = DIP.create_task(\n",
    "                                                name = \"newsdata_ingest_task\",\n",
    "                                                dataflow_application_id = dataflow_newsdata_application_id\n",
    "                                                )\n",
    "newsdata_create_patch_response         = DIP.create_patch(\n",
    "                                                name=\"newsdata_ingest_publish\"\n",
    "                                                )\n",
    "newsdata_create_schedule_response      = DIP.create_schedule(\n",
    "                                                name   = \"newsdata_ingest_schedule\",\n",
    "                                                hour   = 1,\n",
    "                                                minute = 0,\n",
    "                                                second = 0\n",
    "                                                )"
   ]
  },
  {
   "cell_type": "code",
   "execution_count": 38,
   "id": "0306f6f3-95e5-4782-99ef-fdf647ad219c",
   "metadata": {},
   "outputs": [
    {
     "name": "stderr",
     "output_type": "stream",
     "text": [
      "WARNING:root:>>>schedule task is created: key = 16100559-9939-4422-a827-a14001c8140a<<<\n",
      "\n"
     ]
    }
   ],
   "source": [
    "newsdata_create_task_schedule_response = DIP.create_task_schedule(\n",
    "                                                    name = \"newsdata_ingest_task_schedule\",\n",
    "                                                    is_enabled = True, \n",
    "                                                    start_time_millis = timestamp_schedule_begin,\n",
    "                                                    end_time_millis   = timestamp_schedule_end,\n",
    "                                                    expected_duration = 10,\n",
    "                                                    expected_duration_unit = \"MINUTES\"\n",
    "                                                    )"
   ]
  },
  {
   "cell_type": "markdown",
   "id": "cc6bee5d-7409-4deb-9332-08fb4b85dcdf",
   "metadata": {},
   "source": [
    "### Ingest data from CoinWatch "
   ]
  },
  {
   "cell_type": "code",
   "execution_count": 39,
   "id": "c398c02e-19da-4bc7-9cd5-4d40ecd4839f",
   "metadata": {},
   "outputs": [
    {
     "name": "stderr",
     "output_type": "stream",
     "text": [
      "WARNING:root:>>>application Arman-request_api_coinwatch_latest is created: id = ocid1.dataflowapplication.oc1.ca-toronto-1.an2g6ljr7q6phdias62gtntutdspangxjpsukwamhcej5pdkbavfw3ldmwdq<<<\n",
      "\n"
     ]
    }
   ],
   "source": [
    "arguments_CoinWatch  = [\"{}\".format(env_str),\"{}\".format(CoinWatch_env_str)]\n",
    "coinwatch_application_response = DFP.create_application(\n",
    "                                       display_name    ='Arman-request_api_coinwatch_latest', \n",
    "                                       file_uri        = path2uri(env,API_coinwatch_path), \n",
    "                                       logs_bucket_uri = path2uri(env,logs_bucket_path),\n",
    "                                       archive_uri     = path2uri(env,archive_path),\n",
    "                                       arguments       = arguments_CoinWatch,\n",
    "                                      )\n",
    "dataflow_coinwatch_application_id  = coinwatch_application_response.data.id"
   ]
  },
  {
   "cell_type": "code",
   "execution_count": 40,
   "id": "afbe8d7e-dadd-45de-a86d-61da346cc856",
   "metadata": {},
   "outputs": [],
   "source": [
    "# coinwatch_create_run_response = DFP.create_run(display_name    = 'run_request_api_coinwatch_latest')"
   ]
  },
  {
   "cell_type": "code",
   "execution_count": 41,
   "id": "c1e9e928-abab-463f-9214-656ffe242f5d",
   "metadata": {
    "tags": []
   },
   "outputs": [
    {
     "name": "stderr",
     "output_type": "stream",
     "text": [
      "WARNING:root:>>>task is created: key = 8a370573-bc6f-48b6-ba79-0e8ecd6810b3<<<\n",
      "\n",
      "WARNING:root:>>>task is published into application, patch key = 99ec55ae-193c-48d9-a040-526ef2cebe11<<<\n",
      "WARNING:root:>>>patching takes time, wait a bit<<<\n",
      "\n",
      "WARNING:root:>>>schedule is created: key = 76ba73ea-1c5c-4c34-932a-85866826bd7a<<<\n",
      "\n"
     ]
    }
   ],
   "source": [
    "coinwatch_create_task_response          = DIP.create_task(\n",
    "                                                name = \"coinwatch_ingest_task\",\n",
    "                                                dataflow_application_id = dataflow_newsdata_application_id\n",
    "                                                )\n",
    "coinwatch_create_patch_response         = DIP.create_patch(\n",
    "                                                name = \"coinwatch_ingest_publish\"\n",
    "                                                )\n",
    "coinwatch_create_schedule_response      = DIP.create_schedule(\n",
    "                                                name   = \"coinwatch_ingest_schedule\",\n",
    "                                                hour   = 1,\n",
    "                                                minute = 0,\n",
    "                                                second = 0\n",
    "                                                )"
   ]
  },
  {
   "cell_type": "code",
   "execution_count": 42,
   "id": "009caa5a-a008-444c-82df-35dbb40333b9",
   "metadata": {},
   "outputs": [
    {
     "name": "stderr",
     "output_type": "stream",
     "text": [
      "WARNING:root:>>>schedule task is created: key = b396cc10-01ab-4e85-be64-495d55f7b9c9<<<\n",
      "\n"
     ]
    }
   ],
   "source": [
    "coinwatch_create_task_schedule_response = DIP.create_task_schedule(\n",
    "                                                    name=\"coinwatch_ingest_task_schedule\",\n",
    "                                                    is_enabled=True, \n",
    "                                                    start_time_millis = timestamp_schedule_begin,\n",
    "                                                    end_time_millis   = timestamp_schedule_end,\n",
    "                                                    expected_duration = 10,\n",
    "                                                    expected_duration_unit = \"MINUTES\"\n",
    "                                                    )"
   ]
  },
  {
   "cell_type": "markdown",
   "id": "b836b97f-99ff-4fef-b972-1ec3c22b9c0a",
   "metadata": {},
   "source": [
    "### Object Storage to ADW"
   ]
  },
  {
   "cell_type": "code",
   "execution_count": 43,
   "id": "ef8b29b7-6951-4cf0-a96a-e40062ea35f4",
   "metadata": {},
   "outputs": [
    {
     "name": "stderr",
     "output_type": "stream",
     "text": [
      "WARNING:root:>>>application Arman-OS2ADW_latest is created: id = ocid1.dataflowapplication.oc1.ca-toronto-1.an2g6ljr7q6phdia3uljvk54wsaqowh3i74mll6g6iudgjlrzeitu7begota<<<\n",
      "\n"
     ]
    }
   ],
   "source": [
    "arguments_OS2ADW  = [\"{}\".format(env_str),\"{}\".format(adw_env_str)]\n",
    "OS2ADW_application_response = DFP.create_application(\n",
    "                                       display_name    ='Arman-OS2ADW_latest', \n",
    "                                       file_uri        = path2uri(env,OS2ADW_path), \n",
    "                                       logs_bucket_uri = path2uri(env,logs_bucket_path),\n",
    "                                       archive_uri     = path2uri(env,archive_path),\n",
    "                                       arguments       = arguments_OS2ADW\n",
    "                                      )\n",
    "OS2ADW_application_id  = OS2ADW_application_response.data.id"
   ]
  },
  {
   "cell_type": "code",
   "execution_count": 44,
   "id": "6e210cde-2df3-4ee7-9ba0-93c67637cedf",
   "metadata": {},
   "outputs": [],
   "source": [
    "# OS2ADW_create_run_response = DFP.create_run(display_name='run_OS2ADW_latest')"
   ]
  },
  {
   "cell_type": "code",
   "execution_count": 45,
   "id": "13b12df7-6a01-4a68-8626-3cad28bdceb8",
   "metadata": {},
   "outputs": [
    {
     "name": "stderr",
     "output_type": "stream",
     "text": [
      "WARNING:root:>>>task is created: key = e4c55589-087b-4415-a8e8-f6a47d49ce29<<<\n",
      "\n",
      "WARNING:root:>>>task is published into application, patch key = ed127300-4611-4cc6-be6d-b2749996a22c<<<\n",
      "WARNING:root:>>>patching takes time, wait a bit<<<\n",
      "\n",
      "WARNING:root:>>>schedule is created: key = 82e7886d-8ad4-4fd5-9b57-ee01ff44f163<<<\n",
      "\n"
     ]
    }
   ],
   "source": [
    "OS2ADW_create_task_response          = DIP.create_task(\n",
    "                                                name = \"OS_2_ADW_task\",\n",
    "                                                dataflow_application_id = OS2ADW_application_id\n",
    "                                                )\n",
    "OS2ADW_create_patch_response         = DIP.create_patch(\n",
    "                                                name = \"OS_2_ADW_publish\"\n",
    "                                                )\n",
    "OS2ADW_create_schedule_response      = DIP.create_schedule(\n",
    "                                                name   = \"OS_2_ADW_schedule\",\n",
    "                                                hour   = 1,\n",
    "                                                minute = 15,\n",
    "                                                second = 0\n",
    "                                                )"
   ]
  },
  {
   "cell_type": "code",
   "execution_count": 46,
   "id": "dff2c98a-f262-4069-a95d-dd7af27e7a37",
   "metadata": {},
   "outputs": [
    {
     "name": "stderr",
     "output_type": "stream",
     "text": [
      "WARNING:root:>>>schedule task is created: key = 4f5b7a32-3e4e-4199-ab81-26519ee12a6f<<<\n",
      "\n"
     ]
    }
   ],
   "source": [
    "OS2ADW_create_task_schedule_response = DIP.create_task_schedule(\n",
    "                                                    name=\"OS_2_ADW_task_schedule\",\n",
    "                                                    is_enabled=True, \n",
    "                                                    start_time_millis = timestamp_schedule_begin,\n",
    "                                                    end_time_millis   = timestamp_schedule_end,\n",
    "                                                    expected_duration = 10,\n",
    "                                                    expected_duration_unit = \"MINUTES\"\n",
    "                                                    )"
   ]
  },
  {
   "cell_type": "markdown",
   "id": "cbb4b706-d371-4aaf-91b3-9d4951c8ed69",
   "metadata": {},
   "source": [
    "### Feature Store in ADW"
   ]
  },
  {
   "cell_type": "code",
   "execution_count": 47,
   "id": "08da7474-5b59-4cf9-a5ae-9560f5fd7848",
   "metadata": {},
   "outputs": [
    {
     "name": "stderr",
     "output_type": "stream",
     "text": [
      "WARNING:root:>>>application Arman-ADW-Feature-Extraction is created: id = ocid1.dataflowapplication.oc1.ca-toronto-1.an2g6ljr7q6phdia7hv24m5trvigq2xx25oupirjlsobuvv2yonoapwit5fa<<<\n",
      "\n"
     ]
    }
   ],
   "source": [
    "arguments_ADW_Feature_Extraction  = [\"{}\".format(env_str),\"{}\".format(adw_env_str)]\n",
    "ADW_Feature_Extraction_application_response = DFP.create_application(\n",
    "                                       display_name    ='Arman-ADW-Feature-Extraction', \n",
    "                                       file_uri        = path2uri(env,ADW_Feature_Extraction_path), \n",
    "                                       logs_bucket_uri = path2uri(env,logs_bucket_path),\n",
    "                                       archive_uri     = path2uri(env,archive_path),\n",
    "                                       arguments       = arguments_ADW_Feature_Extraction\n",
    "                                      )\n",
    "ADW_Feature_Extraction_application_id  = ADW_Feature_Extraction_application_response.data.id"
   ]
  },
  {
   "cell_type": "code",
   "execution_count": 48,
   "id": "e6fa1333-0282-4090-a8cd-da3425fe3fc1",
   "metadata": {},
   "outputs": [],
   "source": [
    "# ADW_Feature_Extraction_create_run_response = DFP.create_run(display_name='run_ADW_Feature_Extraction')"
   ]
  },
  {
   "cell_type": "code",
   "execution_count": 49,
   "id": "a354708e-e041-488b-b598-8b3aed491ce1",
   "metadata": {},
   "outputs": [
    {
     "name": "stderr",
     "output_type": "stream",
     "text": [
      "WARNING:root:>>>task is created: key = 8cf277b7-3760-4a38-8ab6-9eb8aca0cbb4<<<\n",
      "\n",
      "WARNING:root:>>>task is published into application, patch key = b2eca019-7882-4d8f-8881-d6ccb7f5ec6a<<<\n",
      "WARNING:root:>>>patching takes time, wait a bit<<<\n",
      "\n",
      "WARNING:root:>>>schedule is created: key = 8f2b57c9-438a-40bd-b2bc-c4ae54ae429c<<<\n",
      "\n"
     ]
    }
   ],
   "source": [
    "Feature_Extraction_create_task_response          = DIP.create_task(\n",
    "                                                name = \"Feature_Extraction_task\",\n",
    "                                                dataflow_application_id = ADW_Feature_Extraction_application_id\n",
    "                                                )\n",
    "Feature_Extraction_create_patch_response         = DIP.create_patch(\n",
    "                                                name = \"Feature_Extraction_publish\"\n",
    "                                                )\n",
    "Feature_Extraction_create_schedule_response      = DIP.create_schedule(\n",
    "                                                name   = \"Feature_Extraction_schedule\",\n",
    "                                                hour   = 1,\n",
    "                                                minute = 30,\n",
    "                                                second = 0\n",
    "                                                )"
   ]
  },
  {
   "cell_type": "code",
   "execution_count": 51,
   "id": "dc0b2fee-57bf-43e8-9a68-fccc637f36d7",
   "metadata": {},
   "outputs": [
    {
     "name": "stderr",
     "output_type": "stream",
     "text": [
      "WARNING:root:>>>schedule task is created: key = fd7af158-abe5-4c0e-ba98-ae9846c49155<<<\n",
      "\n"
     ]
    }
   ],
   "source": [
    "Feature_Extraction_create_task_schedule_response = DIP.create_task_schedule(\n",
    "                                                    name=\"Feature_Extraction_task_schedule\",\n",
    "                                                    is_enabled=True, \n",
    "                                                    start_time_millis = timestamp_schedule_begin,\n",
    "                                                    end_time_millis   = timestamp_schedule_end,\n",
    "                                                    expected_duration = 10,\n",
    "                                                    expected_duration_unit = \"MINUTES\"\n",
    "                                                    )"
   ]
  },
  {
   "cell_type": "markdown",
   "id": "84c2d6c8-40d5-48af-8876-defb996a3b9b",
   "metadata": {},
   "source": [
    "# Training"
   ]
  },
  {
   "cell_type": "markdown",
   "id": "0dafe9c0-1131-40c5-a05f-47948cbd9731",
   "metadata": {},
   "source": [
    "### Create Data Science Project"
   ]
  },
  {
   "cell_type": "code",
   "execution_count": 52,
   "id": "a1400abb-c88b-4c8d-ba0c-4529dd7b7dc1",
   "metadata": {},
   "outputs": [],
   "source": [
    "import oci\n",
    "DS=oci.data_science.DataScienceClient(identity.config)\n",
    "create_project_details=oci.data_science.models.CreateProjectDetails(compartment_id=env['compartment_id'],\n",
    "                                                                   display_name='Arman-RF-crypto')\n",
    "create_project_response=DS.create_project(create_project_details=create_project_details)\n",
    "project_id=create_project_response.data.id"
   ]
  },
  {
   "cell_type": "code",
   "execution_count": 53,
   "id": "9655f144-9e08-4373-816f-5950fd841cba",
   "metadata": {},
   "outputs": [],
   "source": [
    "DS_env={\n",
    "    'project_id' : project_id,\n",
    "    'deployment_instance_shape':\"VM.Standard.E4.Flex\"\n",
    "    }\n",
    "DS_env_str = json.dumps(DS_env)"
   ]
  },
  {
   "cell_type": "markdown",
   "id": "2914854d-f13b-4510-86fa-2b04e81838af",
   "metadata": {},
   "source": [
    "### Model Training: Data Flow Application"
   ]
  },
  {
   "cell_type": "code",
   "execution_count": 54,
   "id": "07791c07-2900-47bb-bfa3-20af05722410",
   "metadata": {},
   "outputs": [
    {
     "name": "stderr",
     "output_type": "stream",
     "text": [
      "WARNING:root:>>>application Arman-RF-model-training is created: id = ocid1.dataflowapplication.oc1.ca-toronto-1.an2g6ljr7q6phdiau5oe6n7yem7egqsjmvqsjscp7llzoduh2shlps6nbvwa<<<\n",
      "\n"
     ]
    }
   ],
   "source": [
    "arguments_RF_model_training  = [\"{}\".format(env_str),\"{}\".format(adw_env_str),\"{}\".format(DS_env_str)]\n",
    "RF_model_training_application_response = DFP.create_application(\n",
    "                                       display_name          ='Arman-RF-model-training', \n",
    "                                       file_uri              = path2uri(env,model_training_path), \n",
    "                                       logs_bucket_uri       = path2uri(env,model_logs_bucket_path),\n",
    "                                       archive_uri           = path2uri(env,model_archive_path),\n",
    "                                       arguments             = arguments_RF_model_training,\n",
    "                                       driver_shape          = \"VM.Standard.E4.Flex\",\n",
    "                                       executor_shape        = \"VM.Standard.E4.Flex\",\n",
    "                                       driver_shape_config   = {\"ocpus\":2,\"memoryInGBs\":16}, \n",
    "                                       executor_shape_config = {\"ocpus\":2,\"memoryInGBs\":16}\n",
    "                                      )\n",
    "RF_model_training_application_id  = RF_model_training_application_response.data.id"
   ]
  },
  {
   "cell_type": "code",
   "execution_count": 55,
   "id": "2a077c79-e1d9-4b97-8942-3437b18713a6",
   "metadata": {},
   "outputs": [],
   "source": [
    "#RF_model_training_create_run_response = DFP.create_run(display_name='run_RF-model-training')"
   ]
  },
  {
   "cell_type": "code",
   "execution_count": 56,
   "id": "438ddc96-8703-44cc-927c-ee240e4de346",
   "metadata": {},
   "outputs": [
    {
     "name": "stderr",
     "output_type": "stream",
     "text": [
      "WARNING:root:>>>task is created: key = e12c4fcc-b5ff-4973-bd7c-ec6dbdc4f68a<<<\n",
      "\n",
      "WARNING:root:>>>task is published into application, patch key = 3249540e-883d-4a50-8e93-57ac97265e54<<<\n",
      "WARNING:root:>>>patching takes time, wait a bit<<<\n",
      "\n",
      "WARNING:root:>>>schedule is created: key = 372eebe4-a953-4edc-b7ee-4149a4b39c66<<<\n",
      "\n"
     ]
    }
   ],
   "source": [
    "RF_model_training_create_task_response          = DIP.create_task(\n",
    "                                                name = \"RF_model_training_task\",\n",
    "                                                dataflow_application_id = RF_model_training_application_id\n",
    "                                                )\n",
    "RF_model_training_create_patch_response         = DIP.create_patch(\n",
    "                                                name = \"RF_model_training_publish\"\n",
    "                                                )\n",
    "RF_model_training_create_schedule_response      = DIP.create_schedule(\n",
    "                                                name   = \"RF_model_training_schedule\",\n",
    "                                                hour   = 24,\n",
    "                                                minute = 0,\n",
    "                                                second = 0\n",
    "                                                )"
   ]
  },
  {
   "cell_type": "code",
   "execution_count": 57,
   "id": "2a291490-edf3-4173-ad59-4a00e01fc61d",
   "metadata": {},
   "outputs": [
    {
     "name": "stderr",
     "output_type": "stream",
     "text": [
      "WARNING:root:>>>schedule task is created: key = 55fffbdc-d58b-4284-a729-8cd7d825cad9<<<\n",
      "\n"
     ]
    }
   ],
   "source": [
    "RF_model_training_create_task_schedule_response = DIP.create_task_schedule(\n",
    "                                                    name=\"RF_model_training_task_schedule\",\n",
    "                                                    is_enabled=True, \n",
    "                                                    start_time_millis = timestamp_schedule_begin,\n",
    "                                                    end_time_millis   = timestamp_schedule_end,\n",
    "                                                    expected_duration = 30,\n",
    "                                                    expected_duration_unit = \"MINUTES\"\n",
    "                                                    )"
   ]
  },
  {
   "cell_type": "markdown",
   "id": "d9526914-a14f-4f8b-9424-8834223948cc",
   "metadata": {},
   "source": [
    "# Scoring"
   ]
  },
  {
   "cell_type": "code",
   "execution_count": 58,
   "id": "d9b1cf46-c9f2-432d-9360-e4550e9ae057",
   "metadata": {},
   "outputs": [
    {
     "name": "stderr",
     "output_type": "stream",
     "text": [
      "WARNING:root:>>>application Arman-scoring is created: id = ocid1.dataflowapplication.oc1.ca-toronto-1.an2g6ljr7q6phdia4zv73kea4l2n36a4y7w2jg4nk4dn6yjzfym7hzxy2zla<<<\n",
      "\n"
     ]
    }
   ],
   "source": [
    "arguments_scoring  = [\"{}\".format(env_str),\"{}\".format(adw_env_str)]\n",
    "scoring_application_response = DFP.create_application(\n",
    "                                       display_name    ='Arman-scoring', \n",
    "                                       file_uri        = path2uri(env,scoring_path), \n",
    "                                       logs_bucket_uri = path2uri(env,logs_bucket_path),\n",
    "                                       archive_uri     = path2uri(env,archive_path),\n",
    "                                       arguments       = arguments_scoring\n",
    "                                      )\n",
    "scoring_application_id  = scoring_application_response.data.id"
   ]
  },
  {
   "cell_type": "code",
   "execution_count": 59,
   "id": "afd1f645-a13b-4886-8df9-0e4f8f4f2aec",
   "metadata": {},
   "outputs": [],
   "source": [
    "#scoring_create_run_response = DFP.create_run(display_name='run_scoring')"
   ]
  },
  {
   "cell_type": "code",
   "execution_count": 60,
   "id": "9759f355-b9f5-417c-99e7-7bca2aa62a9a",
   "metadata": {},
   "outputs": [
    {
     "name": "stderr",
     "output_type": "stream",
     "text": [
      "WARNING:root:>>>task is created: key = 906ad3f2-8dc2-4ba5-8d63-976e7f525ee4<<<\n",
      "\n",
      "WARNING:root:>>>task is published into application, patch key = e195624e-b539-4f8a-879d-1a6505d381a0<<<\n",
      "WARNING:root:>>>patching takes time, wait a bit<<<\n",
      "\n",
      "WARNING:root:>>>schedule is created: key = 9912de76-5bff-4a6d-900a-6026d398ee05<<<\n",
      "\n"
     ]
    }
   ],
   "source": [
    "scoring_create_task_response          = DIP.create_task(\n",
    "                                                name = \"scoring_task\",\n",
    "                                                dataflow_application_id = scoring_application_id\n",
    "                                                )\n",
    "scoring_create_patch_response         = DIP.create_patch(\n",
    "                                                name = \"scoring_publish\"\n",
    "                                                )\n",
    "scoring_create_schedule_response      = DIP.create_schedule(\n",
    "                                                name   = \"scoring_schedule\",\n",
    "                                                hour   = 1,\n",
    "                                                minute = 45,\n",
    "                                                second = 0\n",
    "                                                )"
   ]
  },
  {
   "cell_type": "code",
   "execution_count": 61,
   "id": "0cd8981c-e352-415e-bab7-ec1b63595748",
   "metadata": {},
   "outputs": [
    {
     "name": "stderr",
     "output_type": "stream",
     "text": [
      "WARNING:root:>>>schedule task is created: key = 75a38f13-a731-4deb-9f0b-3e62ba6b39b0<<<\n",
      "\n"
     ]
    }
   ],
   "source": [
    "scoring_create_task_schedule_response = DIP.create_task_schedule(\n",
    "                                                    name=\"scoring_task_schedule\",\n",
    "                                                    is_enabled=True, \n",
    "                                                    start_time_millis = timestamp_schedule_begin,\n",
    "                                                    end_time_millis   = timestamp_schedule_end,\n",
    "                                                    expected_duration = 10,\n",
    "                                                    expected_duration_unit = \"MINUTES\"\n",
    "                                                    )"
   ]
  },
  {
   "cell_type": "markdown",
   "id": "d3769d34-ab04-45ad-8592-9b15c5cf6eb1",
   "metadata": {},
   "source": [
    "# Data Catalog"
   ]
  },
  {
   "cell_type": "code",
   "execution_count": 63,
   "id": "67cec853-34b4-45f3-9889-a8423dbf45e1",
   "metadata": {},
   "outputs": [],
   "source": [
    "catalog_time = schedule_time()\n",
    "datetime_schedule_begin = catalog_time.next_sharp_hour_datetime()\n",
    "datetime_schedule_end   = catalog_time.next_sharp_hour_datetime(days=10)"
   ]
  },
  {
   "cell_type": "code",
   "execution_count": 64,
   "id": "0644a0db-6bbe-4780-bbaf-512d85adcfb6",
   "metadata": {
    "tags": []
   },
   "outputs": [
    {
     "name": "stderr",
     "output_type": "stream",
     "text": [
      "WARNING:root:>>>Data Catalog pipeline initialized<<<\n",
      "WARNING:root:>>>Data Catalog Client<<<\n",
      "WARNING:root:>>>Identity Client<<<\n",
      "\n",
      "WARNING:root:>>>Data Catalog ID = ocid1.datacatalog.oc1.ca-toronto-1.amaaaaaa7ratcziaour6ctlhkkk437asgdrbdcfdds4k4ihfh2kfie2s3xpa<<<\n",
      "\n",
      "WARNING:root:>>>Dynamic Group already existed<<<\n",
      "WARNING:root:>>>Dynamic Group updated ID : ocid1.dynamicgroup.oc1..aaaaaaaacj4gxycujuieosmqonp75ygi7h77fclz7f2vd6b7wijtu3akfsfq<<<\n",
      "\n",
      "WARNING:root:>>>Policy already existed<<<\n",
      "WARNING:root:>>>Policy statement updated: ['Allow dynamic-group Arman-data-catalog-dynamic-group to read object-family in tenancy']<<<\n",
      "WARNING:root:>>>Policy ID : ocid1.policy.oc1..aaaaaaaaywkisw37ibqq433aqssvmsiok2va4w5ulfvtasmq4krq3rrqmckq<<<\n",
      "\n",
      "WARNING:root:>>>Data Catalog type key : 3ea65bc5-f60d-477a-a591-f063665339f9<<<\n",
      "WARNING:root:>>>Data Asset key : 0a7e7001-60f0-4e66-b278-56a9e2968395<<<\n",
      "\n",
      "WARNING:root:>>>Connection type key : cbb356cc-3b00-43c4-b74c-f9f146fc6810<<<\n",
      "WARNING:root:>>>Connection key : 37742517-0e2c-4a6c-92cb-e6ba755fcc11<<<\n",
      "\n",
      "WARNING:root:>>>Job definition key : 9ba43927-5265-4764-bb38-08e899af4bb6<<<\n",
      "\n",
      "WARNING:root:>>>Job scedule @hourly from 2023-04-09T03:00:00+00:00 to 2023-04-19T03:00:00+00:00<<<\n",
      "\n",
      "WARNING:root:>>>Job key : 942dc32c-1a46-48fc-ac09-4d736c1e327a<<<\n"
     ]
    }
   ],
   "source": [
    "DCP=Data_Catalog_Pipeline(identity,env)\n",
    "\n",
    "create_catalog_response        = DCP.create_catalog(display_name = \"Arman-Crypto-Catalog\")\n",
    "create_dynamic_group_response  = DCP.create_dynamic_group(\n",
    "                                                           dynamic_group_name = \"Arman-data-catalog-dynamic-group\",\n",
    "                                                           description        = \"data catalog dynamic group\"\n",
    "                                                          )\n",
    "create_policy_response         = DCP.create_policy(\n",
    "                                                 name        = 'Arman-data-catalog-dynamic-group-policy',\n",
    "                                                 statements  = [\"Allow dynamic-group Arman-data-catalog-dynamic-group to read object-family in tenancy\"],\n",
    "                                                 description = \"Grant access to object storage resources in any compartment in the tenancy\"\n",
    "                                                        )\n",
    "create_data_asset_response     = DCP.create_data_asset(\n",
    "                                                     display_name = \"Object Storage Data Asset\",\n",
    "                                                     description  = \"Data asset for object storage\"\n",
    "                                                    )\n",
    "create_connection_response     = DCP.create_connection(\n",
    "                                                     display_name = \"Data Asset Connection\",\n",
    "                                                     description  = \"Connection for data asset\"\n",
    "                                                    )\n",
    "create_job_definition_response = DCP.create_job_definition(\n",
    "                                                        display_name = \"Harvest Object Storage Data Asset\"\n",
    "                                                        )\n",
    "create_job_response            = DCP.create_job(\n",
    "                                               time_schedule_begin      = datetime_schedule_begin,\n",
    "                                               time_schedule_end        = datetime_schedule_end,\n",
    "                                               schedule_cron_expression = \"@hourly\",\n",
    "                                               display_name             = \"Scheduled Harvest Oracle Object Storage Data Asset\"\n",
    "                                              )"
   ]
  },
  {
   "cell_type": "code",
   "execution_count": null,
   "id": "c8e1d331-f59a-4f3b-bcc7-1e51287ee1dd",
   "metadata": {},
   "outputs": [],
   "source": [
    "#DCP.delete_data_catalog()"
   ]
  }
 ],
 "metadata": {
  "kernelspec": {
   "display_name": "Python [conda env:root] *",
   "language": "python",
   "name": "conda-root-py"
  },
  "language_info": {
   "codemirror_mode": {
    "name": "ipython",
    "version": 3
   },
   "file_extension": ".py",
   "mimetype": "text/x-python",
   "name": "python",
   "nbconvert_exporter": "python",
   "pygments_lexer": "ipython3",
   "version": "3.9.7"
  }
 },
 "nbformat": 4,
 "nbformat_minor": 5
}
