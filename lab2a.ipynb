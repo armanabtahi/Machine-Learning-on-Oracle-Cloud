{
 "cells": [
  {
   "cell_type": "code",
   "execution_count": 1,
   "id": "f588f169-2e98-4564-8a65-f2f60e40d7f4",
   "metadata": {},
   "outputs": [],
   "source": [
    "import pyspark\n",
    "from pyspark import SparkContext\n",
    "from operator import add\n",
    "import re"
   ]
  },
  {
   "cell_type": "code",
   "execution_count": 2,
   "id": "b20af455-41c9-44f5-85f9-257aff79b31f",
   "metadata": {},
   "outputs": [
    {
     "name": "stdout",
     "output_type": "stream",
     "text": [
      "23/02/16 15:54:40 WARN Utils: Your hostname, Seyeds-MacBook-Pro.local resolves to a loopback address: 127.0.0.1; using 192.168.1.73 instead (on interface en0)\n",
      "23/02/16 15:54:40 WARN Utils: Set SPARK_LOCAL_IP if you need to bind to another address\n"
     ]
    },
    {
     "name": "stderr",
     "output_type": "stream",
     "text": [
      "Setting default log level to \"WARN\".\n",
      "To adjust logging level use sc.setLogLevel(newLevel). For SparkR, use setLogLevel(newLevel).\n"
     ]
    },
    {
     "name": "stdout",
     "output_type": "stream",
     "text": [
      "23/02/16 15:54:40 WARN NativeCodeLoader: Unable to load native-hadoop library for your platform... using builtin-java classes where applicable\n"
     ]
    }
   ],
   "source": [
    "sc=SparkContext(\"local\",appName=\"WordCount\")"
   ]
  },
  {
   "cell_type": "code",
   "execution_count": 3,
   "id": "1a25f39a-71f0-4d50-8caa-1c72cb4da18c",
   "metadata": {},
   "outputs": [],
   "source": [
    "words=sc.textFile(\"pg2701.txt\").flatMap(lambda line: re.findall('[a-z]+',line.lower()))"
   ]
  },
  {
   "cell_type": "code",
   "execution_count": 4,
   "id": "439cc2c6-eea0-41ad-ba14-f7f6010bce1e",
   "metadata": {},
   "outputs": [],
   "source": [
    "word_counts=words.map(lambda word:(word,1)).reduceByKey(add)"
   ]
  },
  {
   "cell_type": "code",
   "execution_count": null,
   "id": "c3ff83c6-13e8-4982-a28f-cc3f7a880bea",
   "metadata": {
    "tags": []
   },
   "outputs": [],
   "source": [
    "#word_counts.collect()"
   ]
  },
  {
   "cell_type": "code",
   "execution_count": 5,
   "id": "ec05af74-4b59-438b-ac23-f45b676b4ba5",
   "metadata": {},
   "outputs": [
    {
     "name": "stderr",
     "output_type": "stream",
     "text": [
      "                                                                                \r"
     ]
    },
    {
     "data": {
      "text/plain": [
       "17148"
      ]
     },
     "execution_count": 5,
     "metadata": {},
     "output_type": "execute_result"
    }
   ],
   "source": [
    "len(word_counts.collect())"
   ]
  },
  {
   "cell_type": "code",
   "execution_count": 6,
   "id": "24bd551c-1ef7-4413-bebb-a556e502dfc8",
   "metadata": {
    "tags": []
   },
   "outputs": [
    {
     "data": {
      "text/plain": [
       "[('a', 4799), ('aback', 2), ('abaft', 2), ('abandon', 3), ('abandoned', 7)]"
      ]
     },
     "execution_count": 6,
     "metadata": {},
     "output_type": "execute_result"
    }
   ],
   "source": [
    "sorted(word_counts.collect())[:5]"
   ]
  },
  {
   "cell_type": "code",
   "execution_count": 7,
   "id": "17e7c9e7-94c3-470f-9748-8cb4730604bc",
   "metadata": {
    "tags": []
   },
   "outputs": [
    {
     "data": {
      "text/plain": [
       "[('the', 14620), ('of', 6732), ('and', 6502), ('a', 4799), ('to', 4706)]"
      ]
     },
     "execution_count": 7,
     "metadata": {},
     "output_type": "execute_result"
    }
   ],
   "source": [
    "sorted(word_counts.collect(),key=lambda tup:tup[1], reverse=True)[:5]"
   ]
  },
  {
   "cell_type": "code",
   "execution_count": 10,
   "id": "aca4e22a-4d80-42d5-be8f-f4183f7d9833",
   "metadata": {},
   "outputs": [],
   "source": [
    "word_counts.saveAsTextFile(\"output\")"
   ]
  },
  {
   "cell_type": "code",
   "execution_count": 11,
   "id": "521e406d-b0d9-4a13-a128-74de5ac20516",
   "metadata": {},
   "outputs": [],
   "source": [
    "import pickle\n",
    "with open(\"output/word_counts.pkl\", 'wb') as handle:\n",
    "    pickle.dump(word_counts.collect(), handle, protocol=pickle.HIGHEST_PROTOCOL)"
   ]
  }
 ],
 "metadata": {
  "kernelspec": {
   "display_name": "Python [conda env:root] *",
   "language": "python",
   "name": "conda-root-py"
  },
  "language_info": {
   "codemirror_mode": {
    "name": "ipython",
    "version": 3
   },
   "file_extension": ".py",
   "mimetype": "text/x-python",
   "name": "python",
   "nbconvert_exporter": "python",
   "pygments_lexer": "ipython3",
   "version": "3.9.7"
  }
 },
 "nbformat": 4,
 "nbformat_minor": 5
}
